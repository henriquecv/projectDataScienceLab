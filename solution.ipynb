{
 "cells": [
  {
   "cell_type": "code",
   "execution_count": 1,
   "metadata": {},
   "outputs": [],
   "source": [
    "%matplotlib inline\n",
    "import matplotlib.pyplot as plt\n",
    "import numpy as np\n",
    "import pylab\n",
    "import csv\n",
    "import re\n",
    "import string\n",
    "import pandas as pd\n",
    "from sklearn.model_selection import train_test_split\n",
    "from sklearn.feature_extraction.text import TfidfVectorizer\n",
    "from sklearn.feature_extraction.text import CountVectorizer\n",
    "from nltk.corpus import stopwords as sw\n",
    "from sklearn.tree import DecisionTreeClassifier\n",
    "from sklearn.metrics import f1_score\n",
    "from sklearn.decomposition import TruncatedSVD\n",
    "from sklearn.neural_network import MLPClassifier\n",
    "from sklearn.ensemble import RandomForestClassifier\n",
    "from sklearn.svm import LinearSVC\n",
    "from nltk.stem import SnowballStemmer\n",
    "from nltk.tokenize import word_tokenize\n",
    "from sklearn.feature_selection import chi2\n",
    "from sklearn.model_selection import KFold\n",
    "from sklearn.model_selection import ParameterGrid\n",
    "from sklearn.metrics import confusion_matrix"
   ]
  },
  {
   "cell_type": "code",
   "execution_count": 2,
   "metadata": {},
   "outputs": [],
   "source": [
    "development = pd.read_csv (\"development.csv\")\n",
    "evaluation = pd.read_csv (\"evaluation.csv\")\n",
    "X = development[\"text\"]\n",
    "y = development[\"class\"]"
   ]
  },
  {
   "cell_type": "code",
   "execution_count": 3,
   "metadata": {},
   "outputs": [],
   "source": [
    "#DATA EXPLORATION"
   ]
  },
  {
   "cell_type": "code",
   "execution_count": 4,
   "metadata": {},
   "outputs": [
    {
     "data": {
      "image/png": "[encoded data removed]",
      "text/plain": [
       "<Figure size 576x432 with 1 Axes>"
      ]
     },
     "metadata": {
      "needs_background": "light"
     },
     "output_type": "display_data"
    },
    {
     "name": "stdout",
     "output_type": "stream",
     "text": [
      "class\n",
      "neg     9222\n",
      "pos    19532\n",
      "Name: text, dtype: int64\n"
     ]
    }
   ],
   "source": [
    "fig = plt.figure(figsize=(8,6))\n",
    "development.groupby('class').text.count().plot.bar(ylim=0)\n",
    "plt.show()\n",
    "print(development.groupby('class').text.count())\n",
    "dev_pos = development[development['class'] == 'pos']\n",
    "dev_neg = development[development['class'] == 'neg']\n",
    "X_pos = dev_pos[\"text\"]\n",
    "X_neg = dev_neg[\"text\"]\n",
    "y_pos = dev_pos[\"class\"]\n",
    "y_neg = dev_neg[\"class\"]"
   ]
  },
  {
   "cell_type": "code",
   "execution_count": 5,
   "metadata": {},
   "outputs": [],
   "source": [
    "stopwords = sw.words('italian')\n",
    "stopwords.remove('non')\n",
    "stopwords.remove('ma')"
   ]
  },
  {
   "cell_type": "code",
   "execution_count": 6,
   "metadata": {},
   "outputs": [],
   "source": [
    "count = CountVectorizer(stop_words = stopwords)"
   ]
  },
  {
   "cell_type": "code",
   "execution_count": 7,
   "metadata": {},
   "outputs": [],
   "source": [
    "X_pos_count = count.fit_transform(X_pos).astype(\"float32\")\n",
    "total_words_pos = X_pos_count.sum(axis = 0)"
   ]
  },
  {
   "cell_type": "code",
   "execution_count": 8,
   "metadata": {},
   "outputs": [
    {
     "name": "stdout",
     "output_type": "stream",
     "text": [
      "  . Most common words with positive evaluations:\n",
      "\n",
      "hotel\n",
      "molto\n",
      "non\n",
      "personale\n",
      "ma\n",
      "colazione\n",
      "camera\n",
      "camere\n",
      "posizione\n",
      "disponibile\n"
     ]
    }
   ],
   "source": [
    "indices = np.argsort(total_words_pos)\n",
    "feature_names = np.array(count.get_feature_names())[indices]\n",
    "common_pos_words = []\n",
    "\n",
    "N = -1\n",
    "print(\"  . Most common words with positive evaluations:\\n\")\n",
    "while(N > -11):\n",
    "    common_pos_words.append((feature_names[0][N]))\n",
    "    N = N - 1\n",
    "print(*common_pos_words, sep = \"\\n\") "
   ]
  },
  {
   "cell_type": "code",
   "execution_count": 9,
   "metadata": {},
   "outputs": [],
   "source": [
    "X_neg_count = count.fit_transform(X_neg).astype(\"float32\")\n",
    "total_words_neg = X_neg_count.sum(axis = 0)"
   ]
  },
  {
   "cell_type": "code",
   "execution_count": 10,
   "metadata": {},
   "outputs": [
    {
     "name": "stdout",
     "output_type": "stream",
     "text": [
      "  . Most common words with negative evaluations:\n",
      "\n",
      "non\n",
      "hotel\n",
      "ma\n",
      "camera\n",
      "molto\n",
      "colazione\n",
      "personale\n",
      "stato\n",
      "solo\n",
      "bagno\n"
     ]
    }
   ],
   "source": [
    "indices = np.argsort(total_words_neg)\n",
    "feature_names = np.array(count.get_feature_names())[indices]\n",
    "common_neg_words = []\n",
    "\n",
    "N = -1\n",
    "print(\"  . Most common words with negative evaluations:\\n\")\n",
    "while(N > -11):\n",
    "    common_neg_words.append((feature_names[0][N]))\n",
    "    N = N - 1\n",
    "print(*common_neg_words, sep = \"\\n\") "
   ]
  },
  {
   "cell_type": "code",
   "execution_count": 11,
   "metadata": {},
   "outputs": [
    {
     "name": "stdout",
     "output_type": "stream",
     "text": [
      "['hotel', 'molto', 'non', 'personale', 'ma', 'colazione', 'camera']\n"
     ]
    }
   ],
   "source": [
    "common_words_both = []\n",
    "for word_pos in common_pos_words:\n",
    "    if word_pos in common_neg_words:\n",
    "        common_words_both.append(word_pos)\n",
    "print(common_words_both)"
   ]
  },
  {
   "cell_type": "code",
   "execution_count": 12,
   "metadata": {},
   "outputs": [
    {
     "data": {
      "text/html": [
       "<div>\n",
       "<style scoped>\n",
       "    .dataframe tbody tr th:only-of-type {\n",
       "        vertical-align: middle;\n",
       "    }\n",
       "\n",
       "    .dataframe tbody tr th {\n",
       "        vertical-align: top;\n",
       "    }\n",
       "\n",
       "    .dataframe thead th {\n",
       "        text-align: right;\n",
       "    }\n",
       "</style>\n",
       "<table border=\"1\" class=\"dataframe\">\n",
       "  <thead>\n",
       "    <tr style=\"text-align: right;\">\n",
       "      <th></th>\n",
       "      <th>Pos</th>\n",
       "      <th>Neg</th>\n",
       "    </tr>\n",
       "  </thead>\n",
       "  <tbody>\n",
       "    <tr>\n",
       "      <td>0</td>\n",
       "      <td>hotel</td>\n",
       "      <td>non</td>\n",
       "    </tr>\n",
       "    <tr>\n",
       "      <td>1</td>\n",
       "      <td>molto</td>\n",
       "      <td>hotel</td>\n",
       "    </tr>\n",
       "    <tr>\n",
       "      <td>2</td>\n",
       "      <td>non</td>\n",
       "      <td>ma</td>\n",
       "    </tr>\n",
       "    <tr>\n",
       "      <td>3</td>\n",
       "      <td>personale</td>\n",
       "      <td>camera</td>\n",
       "    </tr>\n",
       "    <tr>\n",
       "      <td>4</td>\n",
       "      <td>ma</td>\n",
       "      <td>molto</td>\n",
       "    </tr>\n",
       "    <tr>\n",
       "      <td>5</td>\n",
       "      <td>colazione</td>\n",
       "      <td>colazione</td>\n",
       "    </tr>\n",
       "    <tr>\n",
       "      <td>6</td>\n",
       "      <td>camera</td>\n",
       "      <td>personale</td>\n",
       "    </tr>\n",
       "    <tr>\n",
       "      <td>7</td>\n",
       "      <td>camere</td>\n",
       "      <td>stato</td>\n",
       "    </tr>\n",
       "    <tr>\n",
       "      <td>8</td>\n",
       "      <td>posizione</td>\n",
       "      <td>solo</td>\n",
       "    </tr>\n",
       "    <tr>\n",
       "      <td>9</td>\n",
       "      <td>disponibile</td>\n",
       "      <td>bagno</td>\n",
       "    </tr>\n",
       "  </tbody>\n",
       "</table>\n",
       "</div>"
      ],
      "text/plain": [
       "           Pos        Neg\n",
       "0        hotel        non\n",
       "1        molto      hotel\n",
       "2          non         ma\n",
       "3    personale     camera\n",
       "4           ma      molto\n",
       "5    colazione  colazione\n",
       "6       camera  personale\n",
       "7       camere      stato\n",
       "8    posizione       solo\n",
       "9  disponibile      bagno"
      ]
     },
     "execution_count": 12,
     "metadata": {},
     "output_type": "execute_result"
    }
   ],
   "source": [
    "s1 = pd.Series(common_pos_words)\n",
    "s2 = pd.Series(common_neg_words)\n",
    "df = pd.DataFrame({'Pos':s1, 'Neg':s2})\n",
    "df"
   ]
  },
  {
   "cell_type": "code",
   "execution_count": 13,
   "metadata": {},
   "outputs": [
    {
     "name": "stdout",
     "output_type": "stream",
     "text": [
      "__lw_engspa_dt_inn__\n",
      "buon_nms\n",
      "yr_nms\n",
      "loggia_nms\n",
      "glum_nup\n",
      "cuteness_nus\n",
      "indulgent_nfs\n",
      "me_ct\n",
      "striped_nfs\n",
      "_naples\n",
      "splurge_nus\n",
      "_prima\n",
      "dolente_\n",
      "_un\n",
      "ceramica_\n",
      "breafast_nus\n",
      "_certamente_\n",
      "_personale\n",
      "modesta_\n",
      "_da_\n",
      "burned_nfs\n",
      "andrea_m92\n",
      "vaporetto_nup\n",
      "grungy_nmp\n",
      "wi_fi\n",
      "_27\n",
      "wouldnt_nus\n",
      "o_o\n",
      "questo_lento\n",
      "doesnt_nus\n",
      "si_aprivano\n",
      "prosecco_nmp\n",
      "cinnamon_nms\n",
      "smug_nus\n",
      "_molta_\n",
      "_parcheggio\n",
      "_colanzione\n",
      "avrà_bisogno\n",
      "thw_nus\n",
      "prenotare_un_hotel_con_clever_hotels\n",
      "general_discussion\n",
      "hotel_napolit_amo_212443\n",
      "my_nms\n",
      "informing_nup\n",
      "turvy_nus\n",
      "topsy_nus\n",
      "spectular_nup\n",
      "anchient_nus\n",
      "4_5\n",
      "bended_nus\n"
     ]
    }
   ],
   "source": [
    "X_count = count.fit_transform(X).astype(\"float32\")\n",
    "for word, index in count.vocabulary_.items():\n",
    "    if not word.isalnum() :\n",
    "        print(word)"
   ]
  },
  {
   "cell_type": "code",
   "execution_count": 14,
   "metadata": {},
   "outputs": [],
   "source": [
    "del(dev_pos)\n",
    "del(dev_neg)\n",
    "del(X_pos)\n",
    "del(X_neg)\n",
    "del(y_pos)\n",
    "del(y_neg)\n",
    "del(X_pos_count)\n",
    "del(total_words_pos)\n",
    "del(feature_names)\n",
    "del(X_neg_count)\n",
    "del(total_words_neg)\n",
    "del(s1)\n",
    "del(s2)\n",
    "del(df)\n",
    "del(X_count)"
   ]
  },
  {
   "cell_type": "code",
   "execution_count": 15,
   "metadata": {},
   "outputs": [],
   "source": [
    "#PREPROCESSING"
   ]
  },
  {
   "cell_type": "code",
   "execution_count": 16,
   "metadata": {},
   "outputs": [],
   "source": [
    "class StemmeTokenizer(object):\n",
    "    def __init__(self):\n",
    "        self.stemmer = SnowballStemmer('italian', ignore_stopwords=True)\n",
    "    def __call__(self, document):\n",
    "        lemmas = []\n",
    "        re_digit = re.compile(\"[0-9]\")\n",
    "        document = document.replace(\"_\", \" \")\n",
    "        document = document.replace(\"'\", \" \")\n",
    "\n",
    "        for t in word_tokenize(document):\n",
    "            t = t.strip()\n",
    "            lemma = self.stemmer.stem(t)\n",
    "            if lemma not in string.punctuation and (re_digit.match(lemma) or len(lemma) > 1):\n",
    "                lemmas.append(lemma)\n",
    "        return lemmas"
   ]
  },
  {
   "cell_type": "code",
   "execution_count": 17,
   "metadata": {},
   "outputs": [],
   "source": [
    "tokenizer = StemmeTokenizer()\n",
    "#vect = TfidfVectorizer(ngram_range = (1,2), stop_words = stopwords + ['aver', 'far', 'esser', 'star'] + ['hotel', 'molt', 'personal', 'colazion', 'camer'], min_df = 4, tokenizer = tokenizer)"
   ]
  },
  {
   "cell_type": "code",
   "execution_count": 18,
   "metadata": {},
   "outputs": [],
   "source": [
    "#ALGORITHM CHOICE"
   ]
  },
  {
   "cell_type": "code",
   "execution_count": 19,
   "metadata": {},
   "outputs": [],
   "source": [
    "#models = [RandomForestClassifier(), LinearSVC(), MLPClassifier(tol = 0.01)]"
   ]
  },
  {
   "cell_type": "code",
   "execution_count": 20,
   "metadata": {},
   "outputs": [],
   "source": [
    "#kfold = KFold(n_splits=5, shuffle=True)"
   ]
  },
  {
   "cell_type": "code",
   "execution_count": 21,
   "metadata": {},
   "outputs": [],
   "source": [
    "#i = 0\n",
    "#j = 0\n",
    "#f1 = []\n",
    "#score = []\n",
    "#for model in models:\n",
    " #   for train_indices, test_indices in kfold.split(X, y):\n",
    "  #      X_train = X[train_indices]\n",
    "   #     X_test = X[test_indices]\n",
    "    #    y_train = y[train_indices]\n",
    "     #   y_test = y[test_indices]\n",
    "      #  X_train_tokenized = vect.fit_transform(X_train)\n",
    "       # X_test_tokenized = vect.transform(X_test)\n",
    "        #model.fit(X_train_tokenized, y_train)\n",
    "        #y_pred = model.predict(X_test_tokenized)\n",
    "        #f1.append(f1_score(y_test, y_pred, average='weighted'))\n",
    "    #score.append(sum(f1)/len(f1))"
   ]
  },
  {
   "cell_type": "code",
   "execution_count": 22,
   "metadata": {},
   "outputs": [],
   "source": [
    "#print(score)"
   ]
  },
  {
   "cell_type": "code",
   "execution_count": 23,
   "metadata": {},
   "outputs": [],
   "source": [
    "#TUNING AND VALIDATION"
   ]
  },
  {
   "cell_type": "code",
   "execution_count": 24,
   "metadata": {},
   "outputs": [],
   "source": [
    "#X_train, X_test, y_train, y_test = train_test_split(X, y, test_size=0.2)\n",
    "#X_train_tokenized = vect.fit_transform(X_train).astype(\"float32\")\n",
    "#X_test_tokenized = vect.transform(X_test).astype(\"float32\")"
   ]
  },
  {
   "cell_type": "code",
   "execution_count": 25,
   "metadata": {},
   "outputs": [],
   "source": [
    "#grid = ParameterGrid({\"verbose\": [False], \"alpha\": [1e-3, 1e-4, 1e-5], \"tol\": [1e-2], \"batch_size\": [100, 200, 300], \"n_iter_no_change\": [1]})\n",
    "\n",
    "#for params in grid:\n",
    " #   model = MLPClassifier(**params)\n",
    "  #  model.fit(X_train_tokenized, y_train)\n",
    "   # y_pred = model.predict(X_test_tokenized)\n",
    "    #print(params)\n",
    "    #print(f1_score(y_test, y_pred, average='weighted'))"
   ]
  },
  {
   "cell_type": "code",
   "execution_count": 26,
   "metadata": {},
   "outputs": [],
   "source": [
    "#model = MLPClassifier(tol = 0.01, verbose = True, n_iter_no_change = 2)\n",
    "#model.fit(X_train_tokenized, y_train)\n",
    "#y_pred = model.predict(X_test_tokenized)\n",
    "#print(f1_score(y_test, y_pred, average='weighted'))\n",
    "#conf_mat = confusion_matrix(y_test, y_pred)"
   ]
  },
  {
   "cell_type": "code",
   "execution_count": 27,
   "metadata": {},
   "outputs": [],
   "source": [
    "#conf_mat_df = pd.DataFrame(conf_mat, columns=['Neg', 'Pos'], index=['Neg', 'Pos'])\n",
    "#conf_mat_df"
   ]
  },
  {
   "cell_type": "code",
   "execution_count": 28,
   "metadata": {},
   "outputs": [],
   "source": [
    "#del(vect)\n",
    "#del(model)"
   ]
  },
  {
   "cell_type": "code",
   "execution_count": 29,
   "metadata": {},
   "outputs": [],
   "source": [
    "vect = TfidfVectorizer(ngram_range = (1,2), stop_words = stopwords + ['aver', 'far', 'esser', 'star'] + ['hotel', 'molt', 'personal', 'colazion', 'camer'], min_df = 4, tokenizer = tokenizer)"
   ]
  },
  {
   "cell_type": "code",
   "execution_count": 30,
   "metadata": {},
   "outputs": [],
   "source": [
    "X_tokenized = vect.fit_transform(X).astype(\"float32\")"
   ]
  },
  {
   "cell_type": "code",
   "execution_count": 31,
   "metadata": {},
   "outputs": [
    {
     "name": "stdout",
     "output_type": "stream",
     "text": [
      "Iteration 1, loss = 0.32451349\n",
      "Iteration 2, loss = 0.07289464\n",
      "Iteration 3, loss = 0.02829085\n",
      "Iteration 4, loss = 0.01352064\n",
      "Iteration 5, loss = 0.00837581\n",
      "Iteration 6, loss = 0.00621512\n",
      "Iteration 7, loss = 0.00509271\n",
      "Training loss did not improve more than tol=0.010000 for 2 consecutive epochs. Stopping.\n"
     ]
    },
    {
     "data": {
      "text/plain": [
       "MLPClassifier(activation='relu', alpha=0.0001, batch_size='auto', beta_1=0.9,\n",
       "              beta_2=0.999, early_stopping=False, epsilon=1e-08,\n",
       "              hidden_layer_sizes=(100,), learning_rate='constant',\n",
       "              learning_rate_init=0.001, max_iter=200, momentum=0.9,\n",
       "              n_iter_no_change=2, nesterovs_momentum=True, power_t=0.5,\n",
       "              random_state=None, shuffle=True, solver='adam', tol=0.01,\n",
       "              validation_fraction=0.1, verbose=True, warm_start=False)"
      ]
     },
     "execution_count": 31,
     "metadata": {},
     "output_type": "execute_result"
    }
   ],
   "source": [
    "model = MLPClassifier(tol = 0.01, verbose = True, n_iter_no_change = 2)\n",
    "model.fit(X_tokenized, y)"
   ]
  },
  {
   "cell_type": "code",
   "execution_count": 32,
   "metadata": {},
   "outputs": [],
   "source": [
    "X_eval = evaluation[\"text\"]\n",
    "X_eval_tokenized = vect.transform(X_eval).astype(\"float32\")\n",
    "y_eval = model.predict(X_eval_tokenized)"
   ]
  },
  {
   "cell_type": "code",
   "execution_count": 33,
   "metadata": {},
   "outputs": [],
   "source": [
    "def writeOutput(y_eval):\n",
    "    output = {}\n",
    "    name = []\n",
    "    i = 0\n",
    "    \n",
    "    for y in y_eval:\n",
    "        output[i] = y\n",
    "        i = i + 1\n",
    "\n",
    "    import csv\n",
    "    with open('test.csv', 'w') as f:\n",
    "        f.write(\"Id,Predicted\\n\")\n",
    "        for key in output.keys():\n",
    "            f.write(\"%s,%s\\n\"%(key,output[key]))"
   ]
  },
  {
   "cell_type": "code",
   "execution_count": 34,
   "metadata": {},
   "outputs": [],
   "source": [
    "writeOutput(y_eval)"
   ]
  },
  {
   "cell_type": "code",
   "execution_count": null,
   "metadata": {},
   "outputs": [],
   "source": []
  }
 ],
 "metadata": {
  "kernelspec": {
   "display_name": "Python 3",
   "language": "python",
   "name": "python3"
  },
  "language_info": {
   "codemirror_mode": {
    "name": "ipython",
    "version": 3
   },
   "file_extension": ".py",
   "mimetype": "text/x-python",
   "name": "python",
   "nbconvert_exporter": "python",
   "pygments_lexer": "ipython3",
   "version": "3.7.4"
  }
 },
 "nbformat": 4,
 "nbformat_minor": 2
}
